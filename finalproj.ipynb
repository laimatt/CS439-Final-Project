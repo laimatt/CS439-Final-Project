{
 "cells": [
  {
   "cell_type": "code",
   "execution_count": 3,
   "id": "2299e343-39bf-4cb0-96e0-ac3affb245e1",
   "metadata": {},
   "outputs": [
    {
     "data": {
      "text/plain": [
       "<Axes: xlabel='class', ylabel='count'>"
      ]
     },
     "execution_count": 3,
     "metadata": {},
     "output_type": "execute_result"
    },
    {
     "data": {
      "image/png": "[encoded data removed]",
      "text/plain": [
       "<Figure size 640x480 with 1 Axes>"
      ]
     },
     "metadata": {},
     "output_type": "display_data"
    }
   ],
   "source": [
    "import pandas as pd\n",
    "import seaborn as sns\n",
    "import matplotlib.pyplot as plt\n",
    "import numpy as np\n",
    "data = pd.read_csv('News.csv',index_col=0)\n",
    "data = data.drop([\"title\", \"subject\",\"date\"], axis = 1)\n",
    "# Shuffling\n",
    "data = data.sample(frac=1)\n",
    "data.reset_index(inplace=True)\n",
    "data.drop([\"index\"], axis=1, inplace=True)\n",
    "sns.countplot(data=data,x='class',order=data['class'].value_counts().index)\n",
    "\n"
   ]
  },
  {
   "cell_type": "code",
   "execution_count": 9,
   "id": "aae7423b-59bb-4c42-a05d-c47606da0b15",
   "metadata": {},
   "outputs": [
    {
     "name": "stderr",
     "output_type": "stream",
     "text": [
      "[nltk_data] Downloading package punkt to /home/jd1604/nltk_data...\n",
      "[nltk_data]   Package punkt is already up-to-date!\n",
      "[nltk_data] Downloading package stopwords to /home/jd1604/nltk_data...\n",
      "[nltk_data]   Package stopwords is already up-to-date!\n"
     ]
    },
    {
     "ename": "ModuleNotFoundError",
     "evalue": "No module named 'wordCloud'",
     "output_type": "error",
     "traceback": [
      "\u001b[0;31m---------------------------------------------------------------------------\u001b[0m",
      "\u001b[0;31mModuleNotFoundError\u001b[0m                       Traceback (most recent call last)",
      "Cell \u001b[0;32mIn[9], line 10\u001b[0m\n\u001b[1;32m      8\u001b[0m \u001b[38;5;28;01mfrom\u001b[39;00m \u001b[38;5;21;01mnltk\u001b[39;00m\u001b[38;5;21;01m.\u001b[39;00m\u001b[38;5;21;01mtokenize\u001b[39;00m \u001b[38;5;28;01mimport\u001b[39;00m word_tokenize\n\u001b[1;32m      9\u001b[0m \u001b[38;5;28;01mfrom\u001b[39;00m \u001b[38;5;21;01mnltk\u001b[39;00m\u001b[38;5;21;01m.\u001b[39;00m\u001b[38;5;21;01mstem\u001b[39;00m\u001b[38;5;21;01m.\u001b[39;00m\u001b[38;5;21;01mporter\u001b[39;00m \u001b[38;5;28;01mimport\u001b[39;00m PorterStemmer\n\u001b[0;32m---> 10\u001b[0m \u001b[38;5;28;01mfrom\u001b[39;00m \u001b[38;5;21;01mwordCloud\u001b[39;00m \u001b[38;5;28;01mimport\u001b[39;00m WordCloud\n\u001b[1;32m     11\u001b[0m \u001b[38;5;28;01mdef\u001b[39;00m \u001b[38;5;21mpreprocess_text\u001b[39m(text_data):\n\u001b[1;32m     12\u001b[0m     preprocessed_text \u001b[38;5;241m=\u001b[39m []\n",
      "\u001b[0;31mModuleNotFoundError\u001b[0m: No module named 'wordCloud'"
     ]
    }
   ],
   "source": [
    "#Preprocessing and Analysis\n",
    "from tqdm import tqdm\n",
    "import re\n",
    "import nltk\n",
    "nltk.download('punkt')\n",
    "nltk.download('stopwords')\n",
    "from nltk.corpus import stopwords\n",
    "from nltk.tokenize import word_tokenize\n",
    "from nltk.stem.porter import PorterStemmer\n",
    "from wordCloud import WordCloud\n",
    "def preprocess_text(text_data):\n",
    "    preprocessed_text = []\n",
    "    \n",
    "    for sentence in tqdm(text_data):\n",
    "        sentence = re.sub(r'[^\\w\\s]', '', sentence)\n",
    "        preprocessed_text.append(' '.join(token.lower()\n",
    "                                  for token in str(sentence).split()\n",
    "                                  if token not in stopwords.words('english')))\n",
    "\n",
    "    return preprocessed_text\n",
    "preprocessed_review = preprocess_text(data['text'].values)\n",
    "data['text'] = preprocessed_review\n",
    "# Real\n",
    "consolidated = ' '.join(\n",
    "    word for word in data['text'][data['class'] == 1].astype(str))\n",
    "wordCloud = WordCloud(width=1600,\n",
    "                      height=800,\n",
    "                      random_state=21,\n",
    "                      max_font_size=110,\n",
    "                      collocations=False)\n",
    "plt.figure(figsize=(15, 10))\n",
    "plt.imshow(wordCloud.generate(consolidated), interpolation='bilinear')\n",
    "plt.axis('off')\n",
    "plt.show()\n",
    "# Fake\n",
    "consolidated = ' '.join(\n",
    "    word for word in data['text'][data['class'] == 0].astype(str))\n",
    "wordCloud = WordCloud(width=1600,\n",
    "                      height=800,\n",
    "                      random_state=21,\n",
    "                      max_font_size=110,\n",
    "                      collocations=False)\n",
    "plt.figure(figsize=(15, 10))\n",
    "plt.imshow(wordCloud.generate(consolidated), interpolation='bilinear')\n",
    "plt.axis('off')\n",
    "plt.show()\n",
    "from sklearn.feature_extraction.text import CountVectorizer\n",
    "\n",
    "\n",
    "def get_top_n_words(corpus, n=None):\n",
    "    vec = CountVectorizer().fit(corpus)\n",
    "    bag_of_words = vec.transform(corpus)\n",
    "    sum_words = bag_of_words.sum(axis=0)\n",
    "    words_freq = [(word, sum_words[0, idx])\n",
    "                  for word, idx in vec.vocabulary_.items()]\n",
    "    words_freq = sorted(words_freq, key=lambda x: x[1],\n",
    "                        reverse=True)\n",
    "    return words_freq[:n]\n",
    "\n",
    "\n",
    "common_words = get_top_n_words(data['text'], 20)\n",
    "df1 = pd.DataFrame(common_words, columns=['Review', 'count'])\n",
    "\n",
    "df1.groupby('Review').sum()['count'].sort_values(ascending=False).plot(\n",
    "    kind='bar',\n",
    "    figsize=(10, 6),\n",
    "    xlabel=\"Top Words\",\n",
    "    ylabel=\"Count\",\n",
    "    title=\"Bar Chart of Top Words Frequency\"\n",
    ")\n"
   ]
  },
  {
   "cell_type": "code",
   "execution_count": 15,
   "id": "80ce6896-f413-4c4d-ab60-9d2f9111c76b",
   "metadata": {},
   "outputs": [],
   "source": [
    "from sklearn.model_selection import train_test_split\n",
    "from sklearn.metrics import accuracy_score\n",
    "from sklearn.linear_model import LogisticRegression\n",
    "\n",
    "x_train, x_test, y_train, y_test = train_test_split(data['text'], \n",
    "                                                    data['class'], \n",
    "                                                    test_size=0.25)"
   ]
  },
  {
   "cell_type": "code",
   "execution_count": 16,
   "id": "f85b7e3b-f68e-41f4-bd5b-e3f4bae74192",
   "metadata": {},
   "outputs": [],
   "source": [
    "from sklearn.feature_extraction.text import TfidfVectorizer\n",
    "\n",
    "vectorization = TfidfVectorizer()\n",
    "x_train = vectorization.fit_transform(x_train)\n",
    "x_test = vectorization.transform(x_test)"
   ]
  },
  {
   "cell_type": "code",
   "execution_count": 17,
   "id": "214f08a4-4abd-4a59-ac87-d48abf0fbd26",
   "metadata": {},
   "outputs": [
    {
     "name": "stdout",
     "output_type": "stream",
     "text": [
      "0.9912731158538395\n",
      "0.9870881567230633\n"
     ]
    }
   ],
   "source": [
    "from sklearn.linear_model import LogisticRegression\n",
    "\n",
    "model = LogisticRegression()\n",
    "model.fit(x_train, y_train)\n",
    "\n",
    "# testing the model\n",
    "print(accuracy_score(y_train, model.predict(x_train)))\n",
    "print(accuracy_score(y_test, model.predict(x_test)))"
   ]
  },
  {
   "cell_type": "code",
   "execution_count": 18,
   "id": "473ce714-d551-4e90-aa2a-92f9215609be",
   "metadata": {},
   "outputs": [
    {
     "name": "stdout",
     "output_type": "stream",
     "text": [
      "1.0\n",
      "0.9959038290293856\n"
     ]
    }
   ],
   "source": [
    "from sklearn.tree import DecisionTreeClassifier\n",
    "\n",
    "model = DecisionTreeClassifier()\n",
    "model.fit(x_train, y_train)\n",
    "\n",
    "# testing the model\n",
    "print(accuracy_score(y_train, model.predict(x_train)))\n",
    "print(accuracy_score(y_test, model.predict(x_test)))"
   ]
  },
  {
   "cell_type": "code",
   "execution_count": 19,
   "id": "298abe46-f6b7-43fe-a58e-911ab6b32f3f",
   "metadata": {},
   "outputs": [
    {
     "data": {
      "image/png": "[encoded data removed]",
      "text/plain": [
       "<Figure size 640x480 with 2 Axes>"
      ]
     },
     "metadata": {},
     "output_type": "display_data"
    }
   ],
   "source": [
    "# Confusion matrix of Results from Decision Tree classification\n",
    "from sklearn import metrics\n",
    "cm = metrics.confusion_matrix(y_test, model.predict(x_test))\n",
    "\n",
    "cm_display = metrics.ConfusionMatrixDisplay(confusion_matrix=cm,\n",
    "                                            display_labels=[False, True])\n",
    "\n",
    "cm_display.plot()\n",
    "plt.show()"
   ]
  },
  {
   "cell_type": "code",
   "execution_count": null,
   "id": "7e0c2236-960f-4ce1-b838-ce6ea3ffbd2d",
   "metadata": {},
   "outputs": [],
   "source": []
  }
 ],
 "metadata": {
  "kernelspec": {
   "display_name": "Python 3 (ipykernel)",
   "language": "python",
   "name": "python3"
  },
  "language_info": {
   "codemirror_mode": {
    "name": "ipython",
    "version": 3
   },
   "file_extension": ".py",
   "mimetype": "text/x-python",
   "name": "python",
   "nbconvert_exporter": "python",
   "pygments_lexer": "ipython3",
   "version": "3.12.7"
  }
 },
 "nbformat": 4,
 "nbformat_minor": 5
}
